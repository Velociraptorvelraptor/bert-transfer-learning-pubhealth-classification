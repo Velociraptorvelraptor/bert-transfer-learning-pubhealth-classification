{
  "nbformat": 4,
  "nbformat_minor": 0,
  "metadata": {
    "colab": {
      "provenance": [],
      "toc_visible": true,
      "authorship_tag": "ABX9TyMRh14FsmGdi0lp//3fFGfm",
      "include_colab_link": true
    },
    "kernelspec": {
      "name": "python3",
      "display_name": "Python 3"
    },
    "language_info": {
      "name": "python"
    },
    "accelerator": "GPU",
    "gpuClass": "standard",
    "widgets": {
      "application/vnd.jupyter.widget-state+json": {
        "53e24411e4fc4d3fa35e1fad336b450b": {
          "model_module": "@jupyter-widgets/controls",
          "model_name": "HBoxModel",
          "model_module_version": "1.5.0",
          "state": {
            "_dom_classes": [],
            "_model_module": "@jupyter-widgets/controls",
            "_model_module_version": "1.5.0",
            "_model_name": "HBoxModel",
            "_view_count": null,
            "_view_module": "@jupyter-widgets/controls",
            "_view_module_version": "1.5.0",
            "_view_name": "HBoxView",
            "box_style": "",
            "children": [
              "IPY_MODEL_87f94d46e1cf4167ba2d668f3bf680c8",
              "IPY_MODEL_40207a83164148a2b5c92b63c4d6e945",
              "IPY_MODEL_99df0e360514468390f0e8bc76e9032b"
            ],
            "layout": "IPY_MODEL_6e88fa59042849b99eef1ca2ffd0e5c9"
          }
        },
        "87f94d46e1cf4167ba2d668f3bf680c8": {
          "model_module": "@jupyter-widgets/controls",
          "model_name": "HTMLModel",
          "model_module_version": "1.5.0",
          "state": {
            "_dom_classes": [],
            "_model_module": "@jupyter-widgets/controls",
            "_model_module_version": "1.5.0",
            "_model_name": "HTMLModel",
            "_view_count": null,
            "_view_module": "@jupyter-widgets/controls",
            "_view_module_version": "1.5.0",
            "_view_name": "HTMLView",
            "description": "",
            "description_tooltip": null,
            "layout": "IPY_MODEL_e4307f7b6b804b44b5d4d7f0c9464daa",
            "placeholder": "​",
            "style": "IPY_MODEL_2011d30feba34b0684fc592b0ffbb804",
            "value": "Epoch 9: 100%"
          }
        },
        "40207a83164148a2b5c92b63c4d6e945": {
          "model_module": "@jupyter-widgets/controls",
          "model_name": "FloatProgressModel",
          "model_module_version": "1.5.0",
          "state": {
            "_dom_classes": [],
            "_model_module": "@jupyter-widgets/controls",
            "_model_module_version": "1.5.0",
            "_model_name": "FloatProgressModel",
            "_view_count": null,
            "_view_module": "@jupyter-widgets/controls",
            "_view_module_version": "1.5.0",
            "_view_name": "ProgressView",
            "bar_style": "success",
            "description": "",
            "description_tooltip": null,
            "layout": "IPY_MODEL_904c6abe42e84938808cb7c60a399116",
            "max": 77,
            "min": 0,
            "orientation": "horizontal",
            "style": "IPY_MODEL_1072b8c2a05a45e280f14bb0d156b342",
            "value": 77
          }
        },
        "99df0e360514468390f0e8bc76e9032b": {
          "model_module": "@jupyter-widgets/controls",
          "model_name": "HTMLModel",
          "model_module_version": "1.5.0",
          "state": {
            "_dom_classes": [],
            "_model_module": "@jupyter-widgets/controls",
            "_model_module_version": "1.5.0",
            "_model_name": "HTMLModel",
            "_view_count": null,
            "_view_module": "@jupyter-widgets/controls",
            "_view_module_version": "1.5.0",
            "_view_name": "HTMLView",
            "description": "",
            "description_tooltip": null,
            "layout": "IPY_MODEL_f67e09a91af547eda2a70a65b13016d5",
            "placeholder": "​",
            "style": "IPY_MODEL_fdfdd18302d1482dadd0d56029392609",
            "value": " 77/77 [05:40&lt;00:00,  4.42s/it, loss=0.857, v_num=0, train_accuracy=0.640, train_loss=0.860]"
          }
        },
        "6e88fa59042849b99eef1ca2ffd0e5c9": {
          "model_module": "@jupyter-widgets/base",
          "model_name": "LayoutModel",
          "model_module_version": "1.2.0",
          "state": {
            "_model_module": "@jupyter-widgets/base",
            "_model_module_version": "1.2.0",
            "_model_name": "LayoutModel",
            "_view_count": null,
            "_view_module": "@jupyter-widgets/base",
            "_view_module_version": "1.2.0",
            "_view_name": "LayoutView",
            "align_content": null,
            "align_items": null,
            "align_self": null,
            "border": null,
            "bottom": null,
            "display": "inline-flex",
            "flex": null,
            "flex_flow": "row wrap",
            "grid_area": null,
            "grid_auto_columns": null,
            "grid_auto_flow": null,
            "grid_auto_rows": null,
            "grid_column": null,
            "grid_gap": null,
            "grid_row": null,
            "grid_template_areas": null,
            "grid_template_columns": null,
            "grid_template_rows": null,
            "height": null,
            "justify_content": null,
            "justify_items": null,
            "left": null,
            "margin": null,
            "max_height": null,
            "max_width": null,
            "min_height": null,
            "min_width": null,
            "object_fit": null,
            "object_position": null,
            "order": null,
            "overflow": null,
            "overflow_x": null,
            "overflow_y": null,
            "padding": null,
            "right": null,
            "top": null,
            "visibility": null,
            "width": "100%"
          }
        },
        "e4307f7b6b804b44b5d4d7f0c9464daa": {
          "model_module": "@jupyter-widgets/base",
          "model_name": "LayoutModel",
          "model_module_version": "1.2.0",
          "state": {
            "_model_module": "@jupyter-widgets/base",
            "_model_module_version": "1.2.0",
            "_model_name": "LayoutModel",
            "_view_count": null,
            "_view_module": "@jupyter-widgets/base",
            "_view_module_version": "1.2.0",
            "_view_name": "LayoutView",
            "align_content": null,
            "align_items": null,
            "align_self": null,
            "border": null,
            "bottom": null,
            "display": null,
            "flex": null,
            "flex_flow": null,
            "grid_area": null,
            "grid_auto_columns": null,
            "grid_auto_flow": null,
            "grid_auto_rows": null,
            "grid_column": null,
            "grid_gap": null,
            "grid_row": null,
            "grid_template_areas": null,
            "grid_template_columns": null,
            "grid_template_rows": null,
            "height": null,
            "justify_content": null,
            "justify_items": null,
            "left": null,
            "margin": null,
            "max_height": null,
            "max_width": null,
            "min_height": null,
            "min_width": null,
            "object_fit": null,
            "object_position": null,
            "order": null,
            "overflow": null,
            "overflow_x": null,
            "overflow_y": null,
            "padding": null,
            "right": null,
            "top": null,
            "visibility": null,
            "width": null
          }
        },
        "2011d30feba34b0684fc592b0ffbb804": {
          "model_module": "@jupyter-widgets/controls",
          "model_name": "DescriptionStyleModel",
          "model_module_version": "1.5.0",
          "state": {
            "_model_module": "@jupyter-widgets/controls",
            "_model_module_version": "1.5.0",
            "_model_name": "DescriptionStyleModel",
            "_view_count": null,
            "_view_module": "@jupyter-widgets/base",
            "_view_module_version": "1.2.0",
            "_view_name": "StyleView",
            "description_width": ""
          }
        },
        "904c6abe42e84938808cb7c60a399116": {
          "model_module": "@jupyter-widgets/base",
          "model_name": "LayoutModel",
          "model_module_version": "1.2.0",
          "state": {
            "_model_module": "@jupyter-widgets/base",
            "_model_module_version": "1.2.0",
            "_model_name": "LayoutModel",
            "_view_count": null,
            "_view_module": "@jupyter-widgets/base",
            "_view_module_version": "1.2.0",
            "_view_name": "LayoutView",
            "align_content": null,
            "align_items": null,
            "align_self": null,
            "border": null,
            "bottom": null,
            "display": null,
            "flex": "2",
            "flex_flow": null,
            "grid_area": null,
            "grid_auto_columns": null,
            "grid_auto_flow": null,
            "grid_auto_rows": null,
            "grid_column": null,
            "grid_gap": null,
            "grid_row": null,
            "grid_template_areas": null,
            "grid_template_columns": null,
            "grid_template_rows": null,
            "height": null,
            "justify_content": null,
            "justify_items": null,
            "left": null,
            "margin": null,
            "max_height": null,
            "max_width": null,
            "min_height": null,
            "min_width": null,
            "object_fit": null,
            "object_position": null,
            "order": null,
            "overflow": null,
            "overflow_x": null,
            "overflow_y": null,
            "padding": null,
            "right": null,
            "top": null,
            "visibility": null,
            "width": null
          }
        },
        "1072b8c2a05a45e280f14bb0d156b342": {
          "model_module": "@jupyter-widgets/controls",
          "model_name": "ProgressStyleModel",
          "model_module_version": "1.5.0",
          "state": {
            "_model_module": "@jupyter-widgets/controls",
            "_model_module_version": "1.5.0",
            "_model_name": "ProgressStyleModel",
            "_view_count": null,
            "_view_module": "@jupyter-widgets/base",
            "_view_module_version": "1.2.0",
            "_view_name": "StyleView",
            "bar_color": null,
            "description_width": ""
          }
        },
        "f67e09a91af547eda2a70a65b13016d5": {
          "model_module": "@jupyter-widgets/base",
          "model_name": "LayoutModel",
          "model_module_version": "1.2.0",
          "state": {
            "_model_module": "@jupyter-widgets/base",
            "_model_module_version": "1.2.0",
            "_model_name": "LayoutModel",
            "_view_count": null,
            "_view_module": "@jupyter-widgets/base",
            "_view_module_version": "1.2.0",
            "_view_name": "LayoutView",
            "align_content": null,
            "align_items": null,
            "align_self": null,
            "border": null,
            "bottom": null,
            "display": null,
            "flex": null,
            "flex_flow": null,
            "grid_area": null,
            "grid_auto_columns": null,
            "grid_auto_flow": null,
            "grid_auto_rows": null,
            "grid_column": null,
            "grid_gap": null,
            "grid_row": null,
            "grid_template_areas": null,
            "grid_template_columns": null,
            "grid_template_rows": null,
            "height": null,
            "justify_content": null,
            "justify_items": null,
            "left": null,
            "margin": null,
            "max_height": null,
            "max_width": null,
            "min_height": null,
            "min_width": null,
            "object_fit": null,
            "object_position": null,
            "order": null,
            "overflow": null,
            "overflow_x": null,
            "overflow_y": null,
            "padding": null,
            "right": null,
            "top": null,
            "visibility": null,
            "width": null
          }
        },
        "fdfdd18302d1482dadd0d56029392609": {
          "model_module": "@jupyter-widgets/controls",
          "model_name": "DescriptionStyleModel",
          "model_module_version": "1.5.0",
          "state": {
            "_model_module": "@jupyter-widgets/controls",
            "_model_module_version": "1.5.0",
            "_model_name": "DescriptionStyleModel",
            "_view_count": null,
            "_view_module": "@jupyter-widgets/base",
            "_view_module_version": "1.2.0",
            "_view_name": "StyleView",
            "description_width": ""
          }
        }
      }
    }
  },
  "cells": [
    {
      "cell_type": "markdown",
      "metadata": {
        "id": "view-in-github",
        "colab_type": "text"
      },
      "source": [
        "<a href=\"https://colab.research.google.com/github/Velociraptorvelraptor/bert-transfer-learning-pubhealth-classification/blob/main/BERT_transfer_learning.ipynb\" target=\"_parent\"><img src=\"https://colab.research.google.com/assets/colab-badge.svg\" alt=\"Open In Colab\"/></a>"
      ]
    },
    {
      "cell_type": "code",
      "execution_count": null,
      "metadata": {
        "id": "kNCqXunODjZj"
      },
      "outputs": [],
      "source": [
        "!pip install torch torchvision torchtext pytorch-lightning --quiet"
      ]
    },
    {
      "cell_type": "code",
      "source": [
        "!pip install transformers --quiet"
      ],
      "metadata": {
        "id": "AY2uw0pEBUAs"
      },
      "execution_count": null,
      "outputs": []
    },
    {
      "cell_type": "code",
      "source": [
        "import pandas as pd\n",
        "\n",
        "import torch\n",
        "from torch import nn, optim\n",
        "import pytorch_lightning as pl\n",
        "from transformers import BertModel, BertConfig, AutoModel, BertTokenizerFast\n",
        "from torch.utils.data import DataLoader, TensorDataset, DataLoader, RandomSampler, SequentialSampler\n",
        "from torchmetrics.functional import accuracy"
      ],
      "metadata": {
        "id": "C4pNhw2I-Ctq"
      },
      "execution_count": null,
      "outputs": []
    },
    {
      "cell_type": "code",
      "source": [
        "!gdown --id 1eTtRs5cUlBP5dXsx-FTAlmXuB6JQi2qj"
      ],
      "metadata": {
        "id": "AfqqlaZ0Ivu0"
      },
      "execution_count": null,
      "outputs": []
    },
    {
      "cell_type": "code",
      "source": [
        "!unzip PUBHEALTH.zip"
      ],
      "metadata": {
        "id": "d_TzBepr8bmK"
      },
      "execution_count": null,
      "outputs": []
    },
    {
      "cell_type": "code",
      "source": [
        "pubh_train = pd.read_csv('/content/PUBHEALTH/train.tsv', sep='\\t')\n",
        "pubh_test = pd.read_csv('/content/PUBHEALTH/test.tsv', sep='\\t')"
      ],
      "metadata": {
        "id": "JjCm2D3k9o8v"
      },
      "execution_count": null,
      "outputs": []
    },
    {
      "cell_type": "code",
      "source": [
        "pubh_test"
      ],
      "metadata": {
        "colab": {
          "base_uri": "https://localhost:8080/",
          "height": 1000
        },
        "id": "XBNpUgPtu2HH",
        "outputId": "362a1b30-594b-4660-c430-829dc6b99392"
      },
      "execution_count": null,
      "outputs": [
        {
          "output_type": "execute_result",
          "data": {
            "text/plain": [
              "      Unnamed: 0  claim_id                                              claim  \\\n",
              "0              0     33456  A mother revealed to her child in a letter aft...   \n",
              "1              1      2542  Study says too many Americans still drink too ...   \n",
              "2              2     26678  Viral image Says 80% of novel coronavirus case...   \n",
              "3              3     40705  An email says that 9-year old Craig Shergold o...   \n",
              "4              4     35718  Employees at a Five Guys restaurant in Daphne,...   \n",
              "...          ...       ...                                                ...   \n",
              "1230        1230      3295  Christmas miracle for Florida dog whose heart ...   \n",
              "1231        1231      6904  Another dolphin dies at Arizona aquatic facility.   \n",
              "1232        1232     13874  What the facts say\" is ... \"the best scenario ...   \n",
              "1233        1233      2847  FDA advisory panel rejects J&J drug for acute ...   \n",
              "1234        1234      7394  Gene-editing Chinese scientist kept much of hi...   \n",
              "\n",
              "         date_published                                        explanation  \\\n",
              "0      November 6, 2011  The one-eyed mother story expounds upon two mo...   \n",
              "1     February 25, 2013  On any given day in the United States, 18 perc...   \n",
              "2        March 13, 2020  The website Information is Beautiful published...   \n",
              "3        March 16, 2015  Send greeting or business cards to cancer vict...   \n",
              "4         July 15, 2020  What's undetermined: As of this writing, Five ...   \n",
              "...                 ...                                                ...   \n",
              "1230                NaN  A Florida man was hoping for a Christmas mirac...   \n",
              "1231                NaN  A fourth dolphin has died at a Phoenix-area aq...   \n",
              "1232      July 17, 2016  Priebus said, \"What the facts say\" is ... \"the...   \n",
              "1233   January 16, 2014  Johnson & Johnson’s anticoagulant Xarelto shou...   \n",
              "1234                NaN  The Chinese scientist who says he helped make ...   \n",
              "\n",
              "                fact_checkers  \\\n",
              "0             David Mikkelson   \n",
              "1                               \n",
              "2                 Paul Specht   \n",
              "3       Rich Buhler & Staff     \n",
              "4                Dan MacGuill   \n",
              "...                       ...   \n",
              "1230         Associated Press   \n",
              "1231                            \n",
              "1232           Lauren Carroll   \n",
              "1233                            \n",
              "1234         Christina Larson   \n",
              "\n",
              "                                              main_text  \\\n",
              "0     In April 2005, we spotted a tearjerker on the ...   \n",
              "1     That means the great majority of Americans sta...   \n",
              "2     Amid the spread of the novel coronavirus, many...   \n",
              "3     Craig Shergold is real and             in 1989...   \n",
              "4     In July 2020, amid a new wave of nationwide pr...   \n",
              "...                                                 ...   \n",
              "1230  The heart of Gerald Ford’s 1-year-old French b...   \n",
              "1231  A statement from Dolphinaris Arizona in Scotts...   \n",
              "1232  Republican National Committee chairman Reince ...   \n",
              "1233  The panel voted 10 to 0, with one abstention, ...   \n",
              "1234  He Jiankui’s outsized aspirations began to tak...   \n",
              "\n",
              "                                                sources     label  \\\n",
              "0                                                           false   \n",
              "1                                  http://bit.ly/X1NVtW      true   \n",
              "2     https://www.facebook.com/informationisbeautifu...      true   \n",
              "3     https://www.reddit.com/submit?url=https%3A%2F%...     false   \n",
              "4                                                        unproven   \n",
              "...                                                 ...       ...   \n",
              "1230  https://www.gainesville.com/news/20200102/holi...      true   \n",
              "1231                                                         true   \n",
              "1232  https://www.nytimes.com/2016/07/13/us/politics...     false   \n",
              "1233                                                         true   \n",
              "1234  https://twitter.com/larsonchristina,http://bit...      true   \n",
              "\n",
              "                                               subjects  \n",
              "0                                        Glurge Gallery  \n",
              "1                                           Health News  \n",
              "2      Facebook Fact-checks, Coronavirus, Viral image,   \n",
              "3                                  Inspirational, Pleas  \n",
              "4                                       Law Enforcement  \n",
              "...                                                 ...  \n",
              "1230  Animals, Health, Florida, General News, Gaines...  \n",
              "1231        Arizona, Animals, Phoenix, Health, Dolphins  \n",
              "1232  National, Children, Race and Ethnicity, Reince...  \n",
              "1233                                        Health News  \n",
              "1234  AP Top News, Health, Genetic Frontiers, Medica...  \n",
              "\n",
              "[1235 rows x 10 columns]"
            ],
            "text/html": [
              "\n",
              "  <div id=\"df-543b5c04-856c-4786-b9ba-5acb061dd42f\">\n",
              "    <div class=\"colab-df-container\">\n",
              "      <div>\n",
              "<style scoped>\n",
              "    .dataframe tbody tr th:only-of-type {\n",
              "        vertical-align: middle;\n",
              "    }\n",
              "\n",
              "    .dataframe tbody tr th {\n",
              "        vertical-align: top;\n",
              "    }\n",
              "\n",
              "    .dataframe thead th {\n",
              "        text-align: right;\n",
              "    }\n",
              "</style>\n",
              "<table border=\"1\" class=\"dataframe\">\n",
              "  <thead>\n",
              "    <tr style=\"text-align: right;\">\n",
              "      <th></th>\n",
              "      <th>Unnamed: 0</th>\n",
              "      <th>claim_id</th>\n",
              "      <th>claim</th>\n",
              "      <th>date_published</th>\n",
              "      <th>explanation</th>\n",
              "      <th>fact_checkers</th>\n",
              "      <th>main_text</th>\n",
              "      <th>sources</th>\n",
              "      <th>label</th>\n",
              "      <th>subjects</th>\n",
              "    </tr>\n",
              "  </thead>\n",
              "  <tbody>\n",
              "    <tr>\n",
              "      <th>0</th>\n",
              "      <td>0</td>\n",
              "      <td>33456</td>\n",
              "      <td>A mother revealed to her child in a letter aft...</td>\n",
              "      <td>November 6, 2011</td>\n",
              "      <td>The one-eyed mother story expounds upon two mo...</td>\n",
              "      <td>David Mikkelson</td>\n",
              "      <td>In April 2005, we spotted a tearjerker on the ...</td>\n",
              "      <td></td>\n",
              "      <td>false</td>\n",
              "      <td>Glurge Gallery</td>\n",
              "    </tr>\n",
              "    <tr>\n",
              "      <th>1</th>\n",
              "      <td>1</td>\n",
              "      <td>2542</td>\n",
              "      <td>Study says too many Americans still drink too ...</td>\n",
              "      <td>February 25, 2013</td>\n",
              "      <td>On any given day in the United States, 18 perc...</td>\n",
              "      <td></td>\n",
              "      <td>That means the great majority of Americans sta...</td>\n",
              "      <td>http://bit.ly/X1NVtW</td>\n",
              "      <td>true</td>\n",
              "      <td>Health News</td>\n",
              "    </tr>\n",
              "    <tr>\n",
              "      <th>2</th>\n",
              "      <td>2</td>\n",
              "      <td>26678</td>\n",
              "      <td>Viral image Says 80% of novel coronavirus case...</td>\n",
              "      <td>March 13, 2020</td>\n",
              "      <td>The website Information is Beautiful published...</td>\n",
              "      <td>Paul Specht</td>\n",
              "      <td>Amid the spread of the novel coronavirus, many...</td>\n",
              "      <td>https://www.facebook.com/informationisbeautifu...</td>\n",
              "      <td>true</td>\n",
              "      <td>Facebook Fact-checks, Coronavirus, Viral image,</td>\n",
              "    </tr>\n",
              "    <tr>\n",
              "      <th>3</th>\n",
              "      <td>3</td>\n",
              "      <td>40705</td>\n",
              "      <td>An email says that 9-year old Craig Shergold o...</td>\n",
              "      <td>March 16, 2015</td>\n",
              "      <td>Send greeting or business cards to cancer vict...</td>\n",
              "      <td>Rich Buhler &amp; Staff</td>\n",
              "      <td>Craig Shergold is real and             in 1989...</td>\n",
              "      <td>https://www.reddit.com/submit?url=https%3A%2F%...</td>\n",
              "      <td>false</td>\n",
              "      <td>Inspirational, Pleas</td>\n",
              "    </tr>\n",
              "    <tr>\n",
              "      <th>4</th>\n",
              "      <td>4</td>\n",
              "      <td>35718</td>\n",
              "      <td>Employees at a Five Guys restaurant in Daphne,...</td>\n",
              "      <td>July 15, 2020</td>\n",
              "      <td>What's undetermined: As of this writing, Five ...</td>\n",
              "      <td>Dan MacGuill</td>\n",
              "      <td>In July 2020, amid a new wave of nationwide pr...</td>\n",
              "      <td></td>\n",
              "      <td>unproven</td>\n",
              "      <td>Law Enforcement</td>\n",
              "    </tr>\n",
              "    <tr>\n",
              "      <th>...</th>\n",
              "      <td>...</td>\n",
              "      <td>...</td>\n",
              "      <td>...</td>\n",
              "      <td>...</td>\n",
              "      <td>...</td>\n",
              "      <td>...</td>\n",
              "      <td>...</td>\n",
              "      <td>...</td>\n",
              "      <td>...</td>\n",
              "      <td>...</td>\n",
              "    </tr>\n",
              "    <tr>\n",
              "      <th>1230</th>\n",
              "      <td>1230</td>\n",
              "      <td>3295</td>\n",
              "      <td>Christmas miracle for Florida dog whose heart ...</td>\n",
              "      <td>NaN</td>\n",
              "      <td>A Florida man was hoping for a Christmas mirac...</td>\n",
              "      <td>Associated Press</td>\n",
              "      <td>The heart of Gerald Ford’s 1-year-old French b...</td>\n",
              "      <td>https://www.gainesville.com/news/20200102/holi...</td>\n",
              "      <td>true</td>\n",
              "      <td>Animals, Health, Florida, General News, Gaines...</td>\n",
              "    </tr>\n",
              "    <tr>\n",
              "      <th>1231</th>\n",
              "      <td>1231</td>\n",
              "      <td>6904</td>\n",
              "      <td>Another dolphin dies at Arizona aquatic facility.</td>\n",
              "      <td>NaN</td>\n",
              "      <td>A fourth dolphin has died at a Phoenix-area aq...</td>\n",
              "      <td></td>\n",
              "      <td>A statement from Dolphinaris Arizona in Scotts...</td>\n",
              "      <td></td>\n",
              "      <td>true</td>\n",
              "      <td>Arizona, Animals, Phoenix, Health, Dolphins</td>\n",
              "    </tr>\n",
              "    <tr>\n",
              "      <th>1232</th>\n",
              "      <td>1232</td>\n",
              "      <td>13874</td>\n",
              "      <td>What the facts say\" is ... \"the best scenario ...</td>\n",
              "      <td>July 17, 2016</td>\n",
              "      <td>Priebus said, \"What the facts say\" is ... \"the...</td>\n",
              "      <td>Lauren Carroll</td>\n",
              "      <td>Republican National Committee chairman Reince ...</td>\n",
              "      <td>https://www.nytimes.com/2016/07/13/us/politics...</td>\n",
              "      <td>false</td>\n",
              "      <td>National, Children, Race and Ethnicity, Reince...</td>\n",
              "    </tr>\n",
              "    <tr>\n",
              "      <th>1233</th>\n",
              "      <td>1233</td>\n",
              "      <td>2847</td>\n",
              "      <td>FDA advisory panel rejects J&amp;J drug for acute ...</td>\n",
              "      <td>January 16, 2014</td>\n",
              "      <td>Johnson &amp; Johnson’s anticoagulant Xarelto shou...</td>\n",
              "      <td></td>\n",
              "      <td>The panel voted 10 to 0, with one abstention, ...</td>\n",
              "      <td></td>\n",
              "      <td>true</td>\n",
              "      <td>Health News</td>\n",
              "    </tr>\n",
              "    <tr>\n",
              "      <th>1234</th>\n",
              "      <td>1234</td>\n",
              "      <td>7394</td>\n",
              "      <td>Gene-editing Chinese scientist kept much of hi...</td>\n",
              "      <td>NaN</td>\n",
              "      <td>The Chinese scientist who says he helped make ...</td>\n",
              "      <td>Christina Larson</td>\n",
              "      <td>He Jiankui’s outsized aspirations began to tak...</td>\n",
              "      <td>https://twitter.com/larsonchristina,http://bit...</td>\n",
              "      <td>true</td>\n",
              "      <td>AP Top News, Health, Genetic Frontiers, Medica...</td>\n",
              "    </tr>\n",
              "  </tbody>\n",
              "</table>\n",
              "<p>1235 rows × 10 columns</p>\n",
              "</div>\n",
              "      <button class=\"colab-df-convert\" onclick=\"convertToInteractive('df-543b5c04-856c-4786-b9ba-5acb061dd42f')\"\n",
              "              title=\"Convert this dataframe to an interactive table.\"\n",
              "              style=\"display:none;\">\n",
              "        \n",
              "  <svg xmlns=\"http://www.w3.org/2000/svg\" height=\"24px\"viewBox=\"0 0 24 24\"\n",
              "       width=\"24px\">\n",
              "    <path d=\"M0 0h24v24H0V0z\" fill=\"none\"/>\n",
              "    <path d=\"M18.56 5.44l.94 2.06.94-2.06 2.06-.94-2.06-.94-.94-2.06-.94 2.06-2.06.94zm-11 1L8.5 8.5l.94-2.06 2.06-.94-2.06-.94L8.5 2.5l-.94 2.06-2.06.94zm10 10l.94 2.06.94-2.06 2.06-.94-2.06-.94-.94-2.06-.94 2.06-2.06.94z\"/><path d=\"M17.41 7.96l-1.37-1.37c-.4-.4-.92-.59-1.43-.59-.52 0-1.04.2-1.43.59L10.3 9.45l-7.72 7.72c-.78.78-.78 2.05 0 2.83L4 21.41c.39.39.9.59 1.41.59.51 0 1.02-.2 1.41-.59l7.78-7.78 2.81-2.81c.8-.78.8-2.07 0-2.86zM5.41 20L4 18.59l7.72-7.72 1.47 1.35L5.41 20z\"/>\n",
              "  </svg>\n",
              "      </button>\n",
              "      \n",
              "  <style>\n",
              "    .colab-df-container {\n",
              "      display:flex;\n",
              "      flex-wrap:wrap;\n",
              "      gap: 12px;\n",
              "    }\n",
              "\n",
              "    .colab-df-convert {\n",
              "      background-color: #E8F0FE;\n",
              "      border: none;\n",
              "      border-radius: 50%;\n",
              "      cursor: pointer;\n",
              "      display: none;\n",
              "      fill: #1967D2;\n",
              "      height: 32px;\n",
              "      padding: 0 0 0 0;\n",
              "      width: 32px;\n",
              "    }\n",
              "\n",
              "    .colab-df-convert:hover {\n",
              "      background-color: #E2EBFA;\n",
              "      box-shadow: 0px 1px 2px rgba(60, 64, 67, 0.3), 0px 1px 3px 1px rgba(60, 64, 67, 0.15);\n",
              "      fill: #174EA6;\n",
              "    }\n",
              "\n",
              "    [theme=dark] .colab-df-convert {\n",
              "      background-color: #3B4455;\n",
              "      fill: #D2E3FC;\n",
              "    }\n",
              "\n",
              "    [theme=dark] .colab-df-convert:hover {\n",
              "      background-color: #434B5C;\n",
              "      box-shadow: 0px 1px 3px 1px rgba(0, 0, 0, 0.15);\n",
              "      filter: drop-shadow(0px 1px 2px rgba(0, 0, 0, 0.3));\n",
              "      fill: #FFFFFF;\n",
              "    }\n",
              "  </style>\n",
              "\n",
              "      <script>\n",
              "        const buttonEl =\n",
              "          document.querySelector('#df-543b5c04-856c-4786-b9ba-5acb061dd42f button.colab-df-convert');\n",
              "        buttonEl.style.display =\n",
              "          google.colab.kernel.accessAllowed ? 'block' : 'none';\n",
              "\n",
              "        async function convertToInteractive(key) {\n",
              "          const element = document.querySelector('#df-543b5c04-856c-4786-b9ba-5acb061dd42f');\n",
              "          const dataTable =\n",
              "            await google.colab.kernel.invokeFunction('convertToInteractive',\n",
              "                                                     [key], {});\n",
              "          if (!dataTable) return;\n",
              "\n",
              "          const docLinkHtml = 'Like what you see? Visit the ' +\n",
              "            '<a target=\"_blank\" href=https://colab.research.google.com/notebooks/data_table.ipynb>data table notebook</a>'\n",
              "            + ' to learn more about interactive tables.';\n",
              "          element.innerHTML = '';\n",
              "          dataTable['output_type'] = 'display_data';\n",
              "          await google.colab.output.renderOutput(dataTable, element);\n",
              "          const docLink = document.createElement('div');\n",
              "          docLink.innerHTML = docLinkHtml;\n",
              "          element.appendChild(docLink);\n",
              "        }\n",
              "      </script>\n",
              "    </div>\n",
              "  </div>\n",
              "  "
            ]
          },
          "metadata": {},
          "execution_count": 29
        }
      ]
    },
    {
      "cell_type": "code",
      "source": [
        "pubh_train.label.hist()"
      ],
      "metadata": {
        "colab": {
          "base_uri": "https://localhost:8080/",
          "height": 282
        },
        "id": "4itBG32d_gYg",
        "outputId": "879dc3fd-3f85-4b69-ffb3-7604baa55e65"
      },
      "execution_count": null,
      "outputs": [
        {
          "output_type": "execute_result",
          "data": {
            "text/plain": [
              "<matplotlib.axes._subplots.AxesSubplot at 0x7fea51c0be80>"
            ]
          },
          "metadata": {},
          "execution_count": 7
        },
        {
          "output_type": "display_data",
          "data": {
            "text/plain": [
              "<Figure size 432x288 with 1 Axes>"
            ],
            "image/png": "[encoded data removed]"
          },
          "metadata": {
            "needs_background": "light"
          }
        }
      ]
    },
    {
      "cell_type": "code",
      "source": [
        "pubh_train = pubh_train[pubh_train.label != 'snopes']"
      ],
      "metadata": {
        "id": "T9s_XjxN_OE7"
      },
      "execution_count": null,
      "outputs": []
    },
    {
      "cell_type": "code",
      "source": [
        "pubh_train = pubh_train[['main_text', 'label']]"
      ],
      "metadata": {
        "id": "8iw1jaDT_RfF"
      },
      "execution_count": null,
      "outputs": []
    },
    {
      "cell_type": "code",
      "source": [
        "pubh_test = pubh_test[['main_text', 'label']]"
      ],
      "metadata": {
        "id": "cp0IK8mpvD1b"
      },
      "execution_count": null,
      "outputs": []
    },
    {
      "cell_type": "code",
      "source": [
        "pubh_test.label.unique()"
      ],
      "metadata": {
        "colab": {
          "base_uri": "https://localhost:8080/"
        },
        "id": "YBkLuS21u6rf",
        "outputId": "e3c9bf4a-0dc8-45fe-da54-2ecc502e182d"
      },
      "execution_count": null,
      "outputs": [
        {
          "output_type": "execute_result",
          "data": {
            "text/plain": [
              "array(['false', 'true', 'unproven', 'mixture', nan], dtype=object)"
            ]
          },
          "metadata": {},
          "execution_count": 32
        }
      ]
    },
    {
      "cell_type": "code",
      "source": [
        "pubh_train.dropna(inplace=True)\n",
        "pubh_test.dropna(inplace=True)"
      ],
      "metadata": {
        "id": "lFN40tXt_rYj"
      },
      "execution_count": null,
      "outputs": []
    },
    {
      "cell_type": "code",
      "source": [
        "pubh_train.isna().any()"
      ],
      "metadata": {
        "colab": {
          "base_uri": "https://localhost:8080/"
        },
        "id": "v_AaO9kb_tEz",
        "outputId": "031de272-e9a8-4857-9398-03edbf248606"
      },
      "execution_count": null,
      "outputs": [
        {
          "output_type": "execute_result",
          "data": {
            "text/plain": [
              "main_text    False\n",
              "label        False\n",
              "dtype: bool"
            ]
          },
          "metadata": {},
          "execution_count": 11
        }
      ]
    },
    {
      "cell_type": "code",
      "source": [],
      "metadata": {
        "id": "DXws2CYvvDEa"
      },
      "execution_count": null,
      "outputs": []
    },
    {
      "cell_type": "code",
      "source": [
        "label_mapper = {'false': 0, 'true': 1, 'unproven': 2, 'mixture': 3}"
      ],
      "metadata": {
        "id": "ZbtU1zru_zSY"
      },
      "execution_count": null,
      "outputs": []
    },
    {
      "cell_type": "code",
      "source": [
        "pubh_train['label'] = pubh_train['label'].apply(lambda x: label_mapper[x])"
      ],
      "metadata": {
        "id": "Z1m5VC-oAbJl"
      },
      "execution_count": null,
      "outputs": []
    },
    {
      "cell_type": "code",
      "source": [
        "pubh_train.head(5)"
      ],
      "metadata": {
        "colab": {
          "base_uri": "https://localhost:8080/",
          "height": 206
        },
        "id": "uLsVwzUYAjHd",
        "outputId": "a6baae8c-dd2d-4161-fb60-fd912eeb6568"
      },
      "execution_count": null,
      "outputs": [
        {
          "output_type": "execute_result",
          "data": {
            "text/plain": [
              "                                           main_text  label\n",
              "0  \"Hillary Clinton is in the political crosshair...      0\n",
              "1  While the financial costs of screening mammogr...      3\n",
              "2  The news release quotes lead researcher Robert...      3\n",
              "3  The story does discuss costs, but the framing ...      1\n",
              "4  \"Although the story didn’t cite the cost of ap...      1"
            ],
            "text/html": [
              "\n",
              "  <div id=\"df-cf73af4a-1004-4cdb-b6b0-c31cb1786255\">\n",
              "    <div class=\"colab-df-container\">\n",
              "      <div>\n",
              "<style scoped>\n",
              "    .dataframe tbody tr th:only-of-type {\n",
              "        vertical-align: middle;\n",
              "    }\n",
              "\n",
              "    .dataframe tbody tr th {\n",
              "        vertical-align: top;\n",
              "    }\n",
              "\n",
              "    .dataframe thead th {\n",
              "        text-align: right;\n",
              "    }\n",
              "</style>\n",
              "<table border=\"1\" class=\"dataframe\">\n",
              "  <thead>\n",
              "    <tr style=\"text-align: right;\">\n",
              "      <th></th>\n",
              "      <th>main_text</th>\n",
              "      <th>label</th>\n",
              "    </tr>\n",
              "  </thead>\n",
              "  <tbody>\n",
              "    <tr>\n",
              "      <th>0</th>\n",
              "      <td>\"Hillary Clinton is in the political crosshair...</td>\n",
              "      <td>0</td>\n",
              "    </tr>\n",
              "    <tr>\n",
              "      <th>1</th>\n",
              "      <td>While the financial costs of screening mammogr...</td>\n",
              "      <td>3</td>\n",
              "    </tr>\n",
              "    <tr>\n",
              "      <th>2</th>\n",
              "      <td>The news release quotes lead researcher Robert...</td>\n",
              "      <td>3</td>\n",
              "    </tr>\n",
              "    <tr>\n",
              "      <th>3</th>\n",
              "      <td>The story does discuss costs, but the framing ...</td>\n",
              "      <td>1</td>\n",
              "    </tr>\n",
              "    <tr>\n",
              "      <th>4</th>\n",
              "      <td>\"Although the story didn’t cite the cost of ap...</td>\n",
              "      <td>1</td>\n",
              "    </tr>\n",
              "  </tbody>\n",
              "</table>\n",
              "</div>\n",
              "      <button class=\"colab-df-convert\" onclick=\"convertToInteractive('df-cf73af4a-1004-4cdb-b6b0-c31cb1786255')\"\n",
              "              title=\"Convert this dataframe to an interactive table.\"\n",
              "              style=\"display:none;\">\n",
              "        \n",
              "  <svg xmlns=\"http://www.w3.org/2000/svg\" height=\"24px\"viewBox=\"0 0 24 24\"\n",
              "       width=\"24px\">\n",
              "    <path d=\"M0 0h24v24H0V0z\" fill=\"none\"/>\n",
              "    <path d=\"M18.56 5.44l.94 2.06.94-2.06 2.06-.94-2.06-.94-.94-2.06-.94 2.06-2.06.94zm-11 1L8.5 8.5l.94-2.06 2.06-.94-2.06-.94L8.5 2.5l-.94 2.06-2.06.94zm10 10l.94 2.06.94-2.06 2.06-.94-2.06-.94-.94-2.06-.94 2.06-2.06.94z\"/><path d=\"M17.41 7.96l-1.37-1.37c-.4-.4-.92-.59-1.43-.59-.52 0-1.04.2-1.43.59L10.3 9.45l-7.72 7.72c-.78.78-.78 2.05 0 2.83L4 21.41c.39.39.9.59 1.41.59.51 0 1.02-.2 1.41-.59l7.78-7.78 2.81-2.81c.8-.78.8-2.07 0-2.86zM5.41 20L4 18.59l7.72-7.72 1.47 1.35L5.41 20z\"/>\n",
              "  </svg>\n",
              "      </button>\n",
              "      \n",
              "  <style>\n",
              "    .colab-df-container {\n",
              "      display:flex;\n",
              "      flex-wrap:wrap;\n",
              "      gap: 12px;\n",
              "    }\n",
              "\n",
              "    .colab-df-convert {\n",
              "      background-color: #E8F0FE;\n",
              "      border: none;\n",
              "      border-radius: 50%;\n",
              "      cursor: pointer;\n",
              "      display: none;\n",
              "      fill: #1967D2;\n",
              "      height: 32px;\n",
              "      padding: 0 0 0 0;\n",
              "      width: 32px;\n",
              "    }\n",
              "\n",
              "    .colab-df-convert:hover {\n",
              "      background-color: #E2EBFA;\n",
              "      box-shadow: 0px 1px 2px rgba(60, 64, 67, 0.3), 0px 1px 3px 1px rgba(60, 64, 67, 0.15);\n",
              "      fill: #174EA6;\n",
              "    }\n",
              "\n",
              "    [theme=dark] .colab-df-convert {\n",
              "      background-color: #3B4455;\n",
              "      fill: #D2E3FC;\n",
              "    }\n",
              "\n",
              "    [theme=dark] .colab-df-convert:hover {\n",
              "      background-color: #434B5C;\n",
              "      box-shadow: 0px 1px 3px 1px rgba(0, 0, 0, 0.15);\n",
              "      filter: drop-shadow(0px 1px 2px rgba(0, 0, 0, 0.3));\n",
              "      fill: #FFFFFF;\n",
              "    }\n",
              "  </style>\n",
              "\n",
              "      <script>\n",
              "        const buttonEl =\n",
              "          document.querySelector('#df-cf73af4a-1004-4cdb-b6b0-c31cb1786255 button.colab-df-convert');\n",
              "        buttonEl.style.display =\n",
              "          google.colab.kernel.accessAllowed ? 'block' : 'none';\n",
              "\n",
              "        async function convertToInteractive(key) {\n",
              "          const element = document.querySelector('#df-cf73af4a-1004-4cdb-b6b0-c31cb1786255');\n",
              "          const dataTable =\n",
              "            await google.colab.kernel.invokeFunction('convertToInteractive',\n",
              "                                                     [key], {});\n",
              "          if (!dataTable) return;\n",
              "\n",
              "          const docLinkHtml = 'Like what you see? Visit the ' +\n",
              "            '<a target=\"_blank\" href=https://colab.research.google.com/notebooks/data_table.ipynb>data table notebook</a>'\n",
              "            + ' to learn more about interactive tables.';\n",
              "          element.innerHTML = '';\n",
              "          dataTable['output_type'] = 'display_data';\n",
              "          await google.colab.output.renderOutput(dataTable, element);\n",
              "          const docLink = document.createElement('div');\n",
              "          docLink.innerHTML = docLinkHtml;\n",
              "          element.appendChild(docLink);\n",
              "        }\n",
              "      </script>\n",
              "    </div>\n",
              "  </div>\n",
              "  "
            ]
          },
          "metadata": {},
          "execution_count": 66
        }
      ]
    },
    {
      "cell_type": "code",
      "source": [
        "pubh_test = pubh_test[['main_text', 'label']].dropna()"
      ],
      "metadata": {
        "id": "Pg7FAKWmAkn0"
      },
      "execution_count": null,
      "outputs": []
    },
    {
      "cell_type": "code",
      "source": [
        "pubh_test['label'] =  pubh_test['label'].apply(lambda x: label_mapper[x])"
      ],
      "metadata": {
        "colab": {
          "base_uri": "https://localhost:8080/"
        },
        "id": "5YTyElLVAo9M",
        "outputId": "7a9811b9-c51d-4bf5-a9d9-b3ee760c72b2"
      },
      "execution_count": null,
      "outputs": [
        {
          "output_type": "stream",
          "name": "stderr",
          "text": [
            "<ipython-input-37-c94b5fb1073d>:1: SettingWithCopyWarning: \n",
            "A value is trying to be set on a copy of a slice from a DataFrame.\n",
            "Try using .loc[row_indexer,col_indexer] = value instead\n",
            "\n",
            "See the caveats in the documentation: https://pandas.pydata.org/pandas-docs/stable/user_guide/indexing.html#returning-a-view-versus-a-copy\n",
            "  pubh_test['label'] =  pubh_test['label'].apply(lambda x: label_mapper[x])\n"
          ]
        }
      ]
    },
    {
      "cell_type": "code",
      "source": [
        "pubh_test.shape"
      ],
      "metadata": {
        "colab": {
          "base_uri": "https://localhost:8080/"
        },
        "id": "i2xcrf-wurxB",
        "outputId": "87f115af-f255-4514-ad2d-9c093ee39c69"
      },
      "execution_count": null,
      "outputs": [
        {
          "output_type": "execute_result",
          "data": {
            "text/plain": [
              "(1007, 2)"
            ]
          },
          "metadata": {},
          "execution_count": 70
        }
      ]
    },
    {
      "cell_type": "code",
      "source": [
        "class TextClassifier(pl.LightningModule):\n",
        "  def __init__(self, max_seq_len=512, batch_size=128, learning_rate=0.001):\n",
        "    super().__init__()\n",
        "    self.max_seq_len = max_seq_len\n",
        "    self.batch_size = batch_size\n",
        "    self.learning_rate = learning_rate\n",
        "    self.loss = nn.CrossEntropyLoss()\n",
        "\n",
        "    self.model = AutoModel.from_pretrained('bert-base-uncased')\n",
        "    for param in self.model.parameters():\n",
        "      param.requires_grad = False\n",
        "\n",
        "    self.new_layers = nn.Sequential(\n",
        "        nn.Linear(768, 512),  # pre-trained BERT model returns output of shape 768\n",
        "        nn.ReLU(),\n",
        "        nn.Dropout(0.2),\n",
        "        nn.Linear(512, 4),  # 4 is number of classes in the dataset\n",
        "        nn.LogSoftmax(dim=1)\n",
        "    )\n",
        "\n",
        "  def forward(self, encode_id, mask):\n",
        "    _, x = self.model(encode_id, attention_mask=mask, return_dict=False)\n",
        "    x = self.new_layers(x)\n",
        "    return x\n",
        "\n",
        "  def training_step(self, batch, batch_idx):\n",
        "    encode_id, mask, targets = batch\n",
        "    outputs = self(encode_id, mask)\n",
        "    preds = torch.argmax(outputs, dim=1)\n",
        "    train_accuracy = accuracy(preds, targets, task='multiclass', num_classes=4)\n",
        "    loss = self.loss(outputs, targets)\n",
        "    self.log('train_accuracy', train_accuracy, prog_bar=True, on_step=False, on_epoch=True)\n",
        "    self.log('train_loss', loss, prog_bar=True, on_step=False, on_epoch=True)\n",
        "    return {\"loss\": loss, \"train_accuracy\": train_accuracy}\n",
        "\n",
        "  def test_step(self, batch, batch_idx):\n",
        "    encode_id, mask, targets = batch\n",
        "    outputs = self.forward(encode_id, mask)\n",
        "    preds = torch.argmax(outputs, dim=1)\n",
        "    test_accuracy = accuracy(preds, targets, task='multiclass', num_classes=4)\n",
        "    loss = self.loss(outputs, targets)\n",
        "    return {\"loss\": loss, \"test_accuracy\": test_accuracy}\n",
        "\n",
        "  def test_epoch_end(self, outputs):\n",
        "    test_outs = []\n",
        "    for test_out in outputs:\n",
        "      out = test_out['test_accuracy']\n",
        "      test_outs.append(out)\n",
        "    total_test_accuracy = torch.stack(test_outs).mean()\n",
        "    self.log('total_test_accuracy', total_test_accuracy, on_step=False, on_epoch=True)\n",
        "    return total_test_accuracy\n",
        "\n",
        "  def configure_optimizers(self):\n",
        "    optimizer = optim.Adam(self.parameters(), lr=self.learning_rate)\n",
        "    return optimizer\n",
        "\n",
        "  def prepare_data(self):\n",
        "    tokenizer = BertTokenizerFast.from_pretrained('bert-base-uncased')\n",
        "\n",
        "    tokens_train = tokenizer.batch_encode_plus(\n",
        "        pubh_train['main_text'].tolist(),\n",
        "        max_length = self.max_seq_len, \n",
        "        pad_to_max_length = True,\n",
        "        truncation = True,\n",
        "        return_token_type_ids = False\n",
        "    )\n",
        "\n",
        "    tokens_test = tokenizer.batch_encode_plus(\n",
        "        pubh_train['main_text'].tolist(),\n",
        "        max_length = self.max_seq_len, \n",
        "        pad_to_max_length = True,\n",
        "        truncation = True,\n",
        "        return_token_type_ids = False\n",
        "    )\n",
        "\n",
        "    self.train_seq = torch.tensor(tokens_train['input_ids'])\n",
        "    self.train_mask = torch.tensor(tokens_train['attention_mask'])\n",
        "    self.train_y = torch.tensor(pubh_train['label'].tolist())\n",
        "\n",
        "    self.test_seq = torch.tensor(tokens_test['input_ids'])\n",
        "    self.test_mask = torch.tensor(tokens_test['attention_mask'])\n",
        "    self.test_y = torch.tensor(pubh_test['label'].tolist())\n",
        "\n",
        "  def train_dataloader(self):\n",
        "    train_dataset = TensorDataset(self.train_seq, self.train_mask, self.train_y)\n",
        "    self.train_dataloader_obj = DataLoader(train_dataset, batch_size=self.batch_size)\n",
        "    return self.train_dataloader_obj\n",
        "\n",
        "  def test_dataloader(self):\n",
        "    test_dataset = TensorDataset(self.test_seq, self.test_mask, self.test_y)\n",
        "    self.test_dataloader_obj = DataLoader(test_dataset, batch_size=self.batch_size)\n",
        "    return self.test_dataloader_obj"
      ],
      "metadata": {
        "id": "EAGPZtb-Be9t"
      },
      "execution_count": null,
      "outputs": []
    },
    {
      "cell_type": "code",
      "source": [
        "model = TextClassifier()"
      ],
      "metadata": {
        "colab": {
          "base_uri": "https://localhost:8080/"
        },
        "id": "4TZagbrPB049",
        "outputId": "2673a186-8508-403b-cfa7-7b1eab4e43c5"
      },
      "execution_count": null,
      "outputs": [
        {
          "output_type": "stream",
          "name": "stderr",
          "text": [
            "Some weights of the model checkpoint at bert-base-uncased were not used when initializing BertModel: ['cls.seq_relationship.bias', 'cls.predictions.transform.dense.weight', 'cls.predictions.transform.dense.bias', 'cls.predictions.bias', 'cls.predictions.decoder.weight', 'cls.seq_relationship.weight', 'cls.predictions.transform.LayerNorm.weight', 'cls.predictions.transform.LayerNorm.bias']\n",
            "- This IS expected if you are initializing BertModel from the checkpoint of a model trained on another task or with another architecture (e.g. initializing a BertForSequenceClassification model from a BertForPreTraining model).\n",
            "- This IS NOT expected if you are initializing BertModel from the checkpoint of a model that you expect to be exactly identical (initializing a BertForSequenceClassification model from a BertForSequenceClassification model).\n"
          ]
        }
      ]
    },
    {
      "cell_type": "code",
      "source": [
        "trainer = pl.Trainer(max_epochs=10, gpus=-1)\n",
        "trainer.fit(model)"
      ],
      "metadata": {
        "colab": {
          "base_uri": "https://localhost:8080/",
          "height": 361,
          "referenced_widgets": [
            "53e24411e4fc4d3fa35e1fad336b450b",
            "87f94d46e1cf4167ba2d668f3bf680c8",
            "40207a83164148a2b5c92b63c4d6e945",
            "99df0e360514468390f0e8bc76e9032b",
            "6e88fa59042849b99eef1ca2ffd0e5c9",
            "e4307f7b6b804b44b5d4d7f0c9464daa",
            "2011d30feba34b0684fc592b0ffbb804",
            "904c6abe42e84938808cb7c60a399116",
            "1072b8c2a05a45e280f14bb0d156b342",
            "f67e09a91af547eda2a70a65b13016d5",
            "fdfdd18302d1482dadd0d56029392609"
          ]
        },
        "id": "UzbG5AReqtGf",
        "outputId": "9a35947d-894c-464e-fbdd-1146a022b1c9"
      },
      "execution_count": null,
      "outputs": [
        {
          "output_type": "stream",
          "name": "stderr",
          "text": [
            "INFO:pytorch_lightning.utilities.rank_zero:GPU available: True (cuda), used: True\n",
            "INFO:pytorch_lightning.utilities.rank_zero:TPU available: False, using: 0 TPU cores\n",
            "INFO:pytorch_lightning.utilities.rank_zero:IPU available: False, using: 0 IPUs\n",
            "INFO:pytorch_lightning.utilities.rank_zero:HPU available: False, using: 0 HPUs\n",
            "WARNING:pytorch_lightning.loggers.tensorboard:Missing logger folder: /content/lightning_logs\n",
            "INFO:pytorch_lightning.accelerators.cuda:LOCAL_RANK: 0 - CUDA_VISIBLE_DEVICES: [0]\n",
            "INFO:pytorch_lightning.callbacks.model_summary:\n",
            "  | Name       | Type             | Params\n",
            "------------------------------------------------\n",
            "0 | loss       | CrossEntropyLoss | 0     \n",
            "1 | model      | BertModel        | 109 M \n",
            "2 | new_layers | Sequential       | 395 K \n",
            "------------------------------------------------\n",
            "395 K     Trainable params\n",
            "109 M     Non-trainable params\n",
            "109 M     Total params\n",
            "439.512   Total estimated model params size (MB)\n"
          ]
        },
        {
          "output_type": "display_data",
          "data": {
            "text/plain": [
              "Training: 0it [00:00, ?it/s]"
            ],
            "application/vnd.jupyter.widget-view+json": {
              "version_major": 2,
              "version_minor": 0,
              "model_id": "53e24411e4fc4d3fa35e1fad336b450b"
            }
          },
          "metadata": {}
        },
        {
          "output_type": "stream",
          "name": "stderr",
          "text": [
            "INFO:pytorch_lightning.utilities.rank_zero:`Trainer.fit` stopped: `max_epochs=10` reached.\n"
          ]
        }
      ]
    }
  ]
}